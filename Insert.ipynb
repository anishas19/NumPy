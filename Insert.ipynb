{
 "cells": [
  {
   "cell_type": "code",
   "execution_count": 76,
   "id": "eb97ca04-2fea-49c1-b497-f756169b14cf",
   "metadata": {},
   "outputs": [
    {
     "name": "stdout",
     "output_type": "stream",
     "text": [
      "[1 3 7 9]\n",
      "[1 3 5 7 9]\n",
      "[1 3 7 9]\n",
      "[1 3 7 9 5]\n"
     ]
    }
   ],
   "source": [
    "# INSERT ELEMENT IN ARRAY\n",
    "import numpy as np\n",
    "\n",
    "# insert() func\n",
    "var=np.array([1,3,7,9])\n",
    "v=np.insert(var,2,5)\n",
    "print(var)\n",
    "print(v)\n",
    "\n",
    "#append() func\n",
    "var1=np.array([1,3,7,9])\n",
    "x=np.append(var,5)\n",
    "print(var1)\n",
    "print(x)"
   ]
  },
  {
   "cell_type": "code",
   "execution_count": null,
   "id": "77941f5e-b712-4c7e-9c48-ea26160d07b0",
   "metadata": {},
   "outputs": [],
   "source": []
  }
 ],
 "metadata": {
  "kernelspec": {
   "display_name": "Python 3 (ipykernel)",
   "language": "python",
   "name": "python3"
  },
  "language_info": {
   "codemirror_mode": {
    "name": "ipython",
    "version": 3
   },
   "file_extension": ".py",
   "mimetype": "text/x-python",
   "name": "python",
   "nbconvert_exporter": "python",
   "pygments_lexer": "ipython3",
   "version": "3.11.5"
  }
 },
 "nbformat": 4,
 "nbformat_minor": 5
}
