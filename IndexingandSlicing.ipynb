{
 "cells": [
  {
   "cell_type": "code",
   "execution_count": 40,
   "id": "07663d83-20f5-40b6-a494-5f8c6f81bd70",
   "metadata": {},
   "outputs": [
    {
     "name": "stdout",
     "output_type": "stream",
     "text": [
      "[1 2 3 4]\n",
      "3\n"
     ]
    }
   ],
   "source": [
    "# indexing\n",
    "import numpy as np\n",
    "arr=np.array([1,2,3,4])\n",
    "print(arr)\n",
    "print(arr[2])"
   ]
  },
  {
   "cell_type": "code",
   "execution_count": 41,
   "id": "502575a7-e28d-43ed-ba77-9858d09b92ac",
   "metadata": {},
   "outputs": [
    {
     "name": "stdout",
     "output_type": "stream",
     "text": [
      "[1 2 3 4]\n",
      "[2 3]\n"
     ]
    }
   ],
   "source": [
    "# slicing\n",
    "\n",
    "import numpy as np\n",
    "arr=np.array([1,2,3,4])\n",
    "print(arr)\n",
    "print(arr[1:3])"
   ]
  },
  {
   "cell_type": "code",
   "execution_count": null,
   "id": "c5629146-bc42-496d-943e-677feae54d7d",
   "metadata": {},
   "outputs": [],
   "source": []
  }
 ],
 "metadata": {
  "kernelspec": {
   "display_name": "Python 3 (ipykernel)",
   "language": "python",
   "name": "python3"
  },
  "language_info": {
   "codemirror_mode": {
    "name": "ipython",
    "version": 3
   },
   "file_extension": ".py",
   "mimetype": "text/x-python",
   "name": "python",
   "nbconvert_exporter": "python",
   "pygments_lexer": "ipython3",
   "version": "3.11.5"
  }
 },
 "nbformat": 4,
 "nbformat_minor": 5
}
