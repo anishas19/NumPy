{
 "cells": [
  {
   "cell_type": "code",
   "execution_count": 67,
   "id": "6f7db3f8-b68b-4e17-b770-5d8c75c60d1f",
   "metadata": {},
   "outputs": [
    {
     "name": "stdout",
     "output_type": "stream",
     "text": [
      "[1 2 3 4 6 7 8 9]\n",
      "[[1 2 3 4]\n",
      " [6 7 8 9]]\n",
      "[[1 6]\n",
      " [2 7]\n",
      " [3 8]\n",
      " [4 9]]\n",
      "[1 2 3 4 6 7 8 9]\n",
      "[[1 2 3 4]\n",
      " [6 7 8 9]]\n",
      "[[[1 6]\n",
      "  [2 7]\n",
      "  [3 8]\n",
      "  [4 9]]]\n"
     ]
    }
   ],
   "source": [
    "# JOIN ARRAY\n",
    "import numpy as np\n",
    "var=np.array([1,2,3,4])\n",
    "var2=np.array([6,7,8,9])\n",
    "\n",
    "arr=np.concatenate((var,var2))\n",
    "print(arr)\n",
    "\n",
    "arr1=np.stack((var,var2),axis=0)\n",
    "print(arr1)\n",
    "\n",
    "arr2=np.stack((var,var2),axis=1)\n",
    "print(arr2)\n",
    "\n",
    "arr3=np.hstack((var,var2))\n",
    "print(arr3)\n",
    "\n",
    "arr4=np.vstack((var,var2))\n",
    "print(arr4)\n",
    "\n",
    "arr5=np.dstack((var,var2))\n",
    "print(arr5)\n"
   ]
  },
  {
   "cell_type": "code",
   "execution_count": 71,
   "id": "5dae2d4e-68e0-4f7a-b6a8-b5f557a6819c",
   "metadata": {},
   "outputs": [
    {
     "name": "stdout",
     "output_type": "stream",
     "text": [
      "[[1 2]\n",
      " [3 4]\n",
      " [5 6]]\n",
      "[array([[1, 2]]), array([[3, 4]]), array([[5, 6]])]\n",
      "[array([[1],\n",
      "       [3],\n",
      "       [5]]), array([[2],\n",
      "       [4],\n",
      "       [6]]), array([], shape=(3, 0), dtype=int32), array([], shape=(3, 0), dtype=int32)]\n"
     ]
    }
   ],
   "source": [
    "# SPLIT ARRAY\n",
    "# splitting array into parts\n",
    "import numpy as np\n",
    "\n",
    "var=np.array([[1,2],[3,4],[5,6]])\n",
    "print(var)\n",
    "ar1=np.array_split(var,3)\n",
    "print(ar1)\n",
    "\n",
    "ar2=np.array_split(var,4,axis=1)\n",
    "print(ar2)\n"
   ]
  },
  {
   "cell_type": "code",
   "execution_count": null,
   "id": "5207b1be-582d-404d-b036-8bf6d1c0b3d9",
   "metadata": {},
   "outputs": [],
   "source": []
  }
 ],
 "metadata": {
  "kernelspec": {
   "display_name": "Python 3 (ipykernel)",
   "language": "python",
   "name": "python3"
  },
  "language_info": {
   "codemirror_mode": {
    "name": "ipython",
    "version": 3
   },
   "file_extension": ".py",
   "mimetype": "text/x-python",
   "name": "python",
   "nbconvert_exporter": "python",
   "pygments_lexer": "ipython3",
   "version": "3.11.5"
  }
 },
 "nbformat": 4,
 "nbformat_minor": 5
}
