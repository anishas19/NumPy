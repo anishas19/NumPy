{
 "cells": [
  {
   "cell_type": "code",
   "execution_count": 6,
   "id": "677f6fd3-7b87-451a-8e05-607b6bdd4864",
   "metadata": {},
   "outputs": [
    {
     "name": "stdout",
     "output_type": "stream",
     "text": [
      "[0. 0. 0. 0.]\n",
      "[[0. 0. 0. 0.]\n",
      " [0. 0. 0. 0.]\n",
      " [0. 0. 0. 0.]]\n"
     ]
    }
   ],
   "source": [
    "# NumPy Functions\n",
    "# (a) Array filled with zeroes\n",
    "ar_zero=np.zeros(4)\n",
    "print(ar_zero)\n",
    "\n",
    "ar_zero2=np.zeros((3,4))\n",
    "print(ar_zero2)"
   ]
  },
  {
   "cell_type": "code",
   "execution_count": 9,
   "id": "f0df3a89-895a-49d3-a0a1-2aed2a58e5f8",
   "metadata": {},
   "outputs": [
    {
     "name": "stdout",
     "output_type": "stream",
     "text": [
      "[1. 1. 1. 1.]\n",
      "[[1. 1. 1. 1.]\n",
      " [1. 1. 1. 1.]\n",
      " [1. 1. 1. 1.]]\n"
     ]
    }
   ],
   "source": [
    "# (b)array filled with ones\n",
    "ar_one=np.ones(4)\n",
    "print(ar_one)\n",
    "\n",
    "ar_one2=np.ones((3,4))\n",
    "print(ar_one2)"
   ]
  },
  {
   "cell_type": "code",
   "execution_count": 11,
   "id": "26c61ddd-e3b5-4f71-9311-9317e988bb0d",
   "metadata": {},
   "outputs": [
    {
     "name": "stdout",
     "output_type": "stream",
     "text": [
      "[2.12199579e-314 1.16709769e-311 3.65608578e-321 7.75844101e-310\n",
      " 5.53682373e-317]\n"
     ]
    }
   ],
   "source": [
    "# (c)Empty array\n",
    "ar_emp=np.empty(5)\n",
    "print(ar_emp)"
   ]
  },
  {
   "cell_type": "code",
   "execution_count": 17,
   "id": "881334bb-ffbb-474a-8dba-139d3b95263e",
   "metadata": {},
   "outputs": [
    {
     "name": "stdout",
     "output_type": "stream",
     "text": [
      "[3 4 5 6 7]\n"
     ]
    }
   ],
   "source": [
    "# (d)An Array with a range of elements\n",
    "ar_range=np.arange(4)\n",
    "print(ar_range)\n",
    "\n",
    "ar_range2=np.arange(3,8)\n",
    "print(ar_range2)\n"
   ]
  },
  {
   "cell_type": "code",
   "execution_count": 20,
   "id": "07775822-5e97-4937-8193-af0da623dd1e",
   "metadata": {},
   "outputs": [
    {
     "name": "stdout",
     "output_type": "stream",
     "text": [
      "[[1. 0. 0.]\n",
      " [0. 1. 0.]\n",
      " [0. 0. 1.]]\n",
      "[[1. 0. 0. 0.]\n",
      " [0. 1. 0. 0.]\n",
      " [0. 0. 1. 0.]]\n"
     ]
    }
   ],
   "source": [
    "# (e)array diagonal filled with ones\n",
    "ar_dia=np.eye(3)\n",
    "print(ar_dia)\n",
    "\n",
    "ar_dia2=np.eye(3,4)\n",
    "print(ar_dia2)"
   ]
  },
  {
   "cell_type": "code",
   "execution_count": 22,
   "id": "9b260fde-5927-480c-a174-fc0620542219",
   "metadata": {},
   "outputs": [
    {
     "name": "stdout",
     "output_type": "stream",
     "text": [
      "[ 1.    3.25  5.5   7.75 10.  ]\n",
      "[ 0.  5. 10. 15. 20.]\n"
     ]
    }
   ],
   "source": [
    "# (f) create an array with values that are spaced linearly in a specified interval\n",
    "ar_lin=np.linspace(1,10,num=5)\n",
    "print(ar_lin)\n",
    "\n",
    "ar_lin2=np.linspace(0,20,num=5)\n",
    "print(ar_lin2)\n"
   ]
  },
  {
   "cell_type": "code",
   "execution_count": null,
   "id": "58ca3b1d-2a7a-4410-baa3-8b3c2ac370bc",
   "metadata": {},
   "outputs": [],
   "source": []
  }
 ],
 "metadata": {
  "kernelspec": {
   "display_name": "Python 3 (ipykernel)",
   "language": "python",
   "name": "python3"
  },
  "language_info": {
   "codemirror_mode": {
    "name": "ipython",
    "version": 3
   },
   "file_extension": ".py",
   "mimetype": "text/x-python",
   "name": "python",
   "nbconvert_exporter": "python",
   "pygments_lexer": "ipython3",
   "version": "3.11.5"
  }
 },
 "nbformat": 4,
 "nbformat_minor": 5
}
