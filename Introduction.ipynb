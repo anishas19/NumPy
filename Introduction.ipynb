{
 "cells": [
  {
   "cell_type": "code",
   "execution_count": 1,
   "id": "2a0eed69-0fc0-4610-84dc-24e9d0973ebf",
   "metadata": {},
   "outputs": [
    {
     "name": "stdout",
     "output_type": "stream",
     "text": [
      "[1 2 3 4]\n"
     ]
    }
   ],
   "source": [
    "# Create an array in Numpy\n",
    "import numpy as np\n",
    "x=np.array([1,2,3,4])\n",
    "print(x)"
   ]
  },
  {
   "cell_type": "code",
   "execution_count": 4,
   "id": "8ba673d8-f833-4692-a9d2-fc305d1a7e10",
   "metadata": {},
   "outputs": [
    {
     "name": "stdout",
     "output_type": "stream",
     "text": [
      "[1 2 3 4]\n",
      "1\n",
      "[[1 2]\n",
      " [3 4]]\n",
      "2\n",
      "[[[1 2]\n",
      "  [3 4]\n",
      "  [5 6]]]\n",
      "3\n",
      "[[[[[[[[1 2 3 4]]]]]]]]\n"
     ]
    }
   ],
   "source": [
    "#Dimensions in Array\n",
    "ar1=np.array([1,2,3,4])\n",
    "print(ar1)\n",
    "print(ar1.ndim)\n",
    "\n",
    "ar2=np.array([[1,2],[3,4]])\n",
    "print(ar2)\n",
    "print(ar2.ndim)\n",
    "\n",
    "ar3=np.array([[[1,2],[3,4],[5,6]]])\n",
    "print(ar3)\n",
    "print(ar3.ndim)\n",
    "\n",
    "arn=np.array([1,2,3,4],ndmin=8)\n",
    "print(arn)"
   ]
  },
  {
   "cell_type": "code",
   "execution_count": null,
   "id": "59c66bd6-db12-4d1c-a9a3-e33f5892c3a7",
   "metadata": {},
   "outputs": [],
   "source": []
  }
 ],
 "metadata": {
  "kernelspec": {
   "display_name": "Python 3 (ipykernel)",
   "language": "python",
   "name": "python3"
  },
  "language_info": {
   "codemirror_mode": {
    "name": "ipython",
    "version": 3
   },
   "file_extension": ".py",
   "mimetype": "text/x-python",
   "name": "python",
   "nbconvert_exporter": "python",
   "pygments_lexer": "ipython3",
   "version": "3.11.5"
  }
 },
 "nbformat": 4,
 "nbformat_minor": 5
}
