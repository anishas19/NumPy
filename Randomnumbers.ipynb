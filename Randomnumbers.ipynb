{
 "cells": [
  {
   "cell_type": "code",
   "execution_count": null,
   "id": "83c3503d-6116-42d8-9e73-4ba4249093a4",
   "metadata": {},
   "outputs": [],
   "source": [
    "# create numpy arrays with random numbers\n",
    "# rand() - random value 0 to 1\n",
    "# randint()- random number between given range\n",
    "# randn() - random value close to zero (including -ve values)\n",
    "# ranf() - random sampling"
   ]
  },
  {
   "cell_type": "code",
   "execution_count": 23,
   "id": "9b824d4a-bb7c-49f9-a0d6-8cb01b895db1",
   "metadata": {},
   "outputs": [
    {
     "name": "stdout",
     "output_type": "stream",
     "text": [
      "[0.61447319 0.86284554 0.92415536 0.49162514]\n"
     ]
    }
   ],
   "source": [
    "# rand()\n",
    "\n",
    "var=np.random.rand(4)\n",
    "print(var)"
   ]
  },
  {
   "cell_type": "code",
   "execution_count": 26,
   "id": "6ebd8841-38fc-4056-a754-d768d6b2f59a",
   "metadata": {},
   "outputs": [
    {
     "name": "stdout",
     "output_type": "stream",
     "text": [
      "[10  5 19]\n"
     ]
    }
   ],
   "source": [
    "# randint()\n",
    "# var2=np.random.randint(min,max,total_values)\n",
    "\n",
    "var2=np.random.randint(5,20,3)\n",
    "print(var2)"
   ]
  },
  {
   "cell_type": "code",
   "execution_count": 27,
   "id": "09d22541-56b9-4b7f-ba45-a9f9f108bc10",
   "metadata": {},
   "outputs": [
    {
     "name": "stdout",
     "output_type": "stream",
     "text": [
      "[ 0.53405671 -1.5662359  -1.68253205 -0.93413849]\n"
     ]
    }
   ],
   "source": [
    "# randn()\n",
    "\n",
    "var3=np.random.randn(4)\n",
    "print(var3)"
   ]
  },
  {
   "cell_type": "code",
   "execution_count": 30,
   "id": "ed6c8860-9318-4850-a651-5ad4c0b08e6d",
   "metadata": {},
   "outputs": [
    {
     "name": "stdout",
     "output_type": "stream",
     "text": [
      "[0.29228334 0.36141987 0.68868084 0.59816968 0.74579021 0.24319412]\n"
     ]
    }
   ],
   "source": [
    "# ranf()\n",
    "\n",
    "var4=np.random.ranf(6)\n",
    "print(var4)"
   ]
  },
  {
   "cell_type": "code",
   "execution_count": null,
   "id": "429419f3-2a24-45ac-9d6f-b9deaf217562",
   "metadata": {},
   "outputs": [],
   "source": []
  },
  {
   "cell_type": "code",
   "execution_count": null,
   "id": "b5c47e3d-1bd0-4da5-9acc-bdf416a75a82",
   "metadata": {},
   "outputs": [],
   "source": []
  }
 ],
 "metadata": {
  "kernelspec": {
   "display_name": "Python 3 (ipykernel)",
   "language": "python",
   "name": "python3"
  },
  "language_info": {
   "codemirror_mode": {
    "name": "ipython",
    "version": 3
   },
   "file_extension": ".py",
   "mimetype": "text/x-python",
   "name": "python",
   "nbconvert_exporter": "python",
   "pygments_lexer": "ipython3",
   "version": "3.11.5"
  }
 },
 "nbformat": 4,
 "nbformat_minor": 5
}
