{
 "cells": [
  {
   "cell_type": "code",
   "execution_count": null,
   "id": "815a1d8c-791e-431e-bbc7-c80f0526effe",
   "metadata": {},
   "outputs": [],
   "source": [
    "# Arithmetic Operations\n",
    "\n",
    "# NumPy's arithmetic operations are widely used due to their ability to perform simple and efficient calculations on arrays.\n",
    "# In this tutorial, we will explore some commonly used arithmetic operations in NumPy and learn how to use them to manipulate arrays.\n",
    "import numpy as np"
   ]
  },
  {
   "cell_type": "code",
   "execution_count": 4,
   "id": "66ece479-4c8d-43ad-91d4-859687fb8bf3",
   "metadata": {},
   "outputs": [
    {
     "name": "stdout",
     "output_type": "stream",
     "text": [
      "Using the + operator: [ 3  7 11 15]\n",
      "Using the add() function: [ 3  7 11 15]\n"
     ]
    }
   ],
   "source": [
    "# ADD\n",
    "import numpy as np\n",
    "first_array = np.array([1, 3, 5, 7])\n",
    "second_array = np.array([2, 4, 6, 8])\n",
    "\n",
    "# using the + operator\n",
    "result1 = first_array + second_array\n",
    "print(\"Using the + operator:\",result1) \n",
    "\n",
    "# using the add() function\n",
    "result2 = np.add(first_array, second_array)\n",
    "print(\"Using the add() function:\",result2) "
   ]
  },
  {
   "cell_type": "code",
   "execution_count": null,
   "id": "d2b8a549-01e8-4bea-b3e3-8842be8a88ee",
   "metadata": {},
   "outputs": [],
   "source": [
    "# SUBTRACTION\n",
    "import numpy as np\n",
    "first_array = np.array([3, 9, 27, 81])\n",
    "second_array = np.array([2, 4, 8, 16])\n",
    "\n",
    "# using the - operator\n",
    "result1 = first_array - second_array\n",
    "print(\"Using the - operator:\",result1) \n",
    "\n",
    "# using the subtract() function\n",
    "result2 = np.subtract(first_array, second_array)\n",
    "print(\"Using the subtract() function:\",result2) "
   ]
  },
  {
   "cell_type": "code",
   "execution_count": null,
   "id": "6cf24073-4606-45e8-9184-1048c487557c",
   "metadata": {},
   "outputs": [],
   "source": [
    "# MULTIPLICATION\n",
    "import numpy as np\n",
    "first_array = np.array([1, 3, 5, 7])\n",
    "second_array = np.array([2, 4, 6, 8])\n",
    "\n",
    "# using the * operator\n",
    "result1 = first_array * second_array\n",
    "print(\"Using the * operator:\",result1) \n",
    "\n",
    "# using the multiply() function\n",
    "result2 = np.multiply(first_array, second_array)\n",
    "print(\"Using the multiply() function:\",result2) "
   ]
  },
  {
   "cell_type": "code",
   "execution_count": 2,
   "id": "301b316e-13b3-48e8-be2f-3b332f055ec1",
   "metadata": {},
   "outputs": [
    {
     "ename": "NameError",
     "evalue": "name 'np' is not defined",
     "output_type": "error",
     "traceback": [
      "\u001b[1;31m---------------------------------------------------------------------------\u001b[0m",
      "\u001b[1;31mNameError\u001b[0m                                 Traceback (most recent call last)",
      "Cell \u001b[1;32mIn[2], line 3\u001b[0m\n\u001b[0;32m      1\u001b[0m \u001b[38;5;66;03m# DIVISION\u001b[39;00m\n\u001b[1;32m----> 3\u001b[0m first_array \u001b[38;5;241m=\u001b[39m \u001b[43mnp\u001b[49m\u001b[38;5;241m.\u001b[39marray([\u001b[38;5;241m1\u001b[39m, \u001b[38;5;241m2\u001b[39m, \u001b[38;5;241m3\u001b[39m])\n\u001b[0;32m      4\u001b[0m second_array \u001b[38;5;241m=\u001b[39m np\u001b[38;5;241m.\u001b[39marray([\u001b[38;5;241m4\u001b[39m, \u001b[38;5;241m5\u001b[39m, \u001b[38;5;241m6\u001b[39m])\n\u001b[0;32m      6\u001b[0m \u001b[38;5;66;03m# using the / operator\u001b[39;00m\n",
      "\u001b[1;31mNameError\u001b[0m: name 'np' is not defined"
     ]
    }
   ],
   "source": [
    "# DIVISION\n",
    "import numpy as np\n",
    "first_array = np.array([1, 2, 3])\n",
    "second_array = np.array([4, 5, 6])\n",
    "\n",
    "# using the / operator\n",
    "result1 = first_array / second_array\n",
    "print(\"Using the / operator:\",result1) \n",
    "\n",
    "# using the divide() function\n",
    "result2 = np.divide(first_array, second_array)\n",
    "print(\"Using the divide() function:\",result2) "
   ]
  },
  {
   "cell_type": "code",
   "execution_count": null,
   "id": "fa28c77e-0b81-439a-9102-fe0bbb8fde0b",
   "metadata": {},
   "outputs": [],
   "source": [
    "# POWER\n",
    "import numpy as np\n",
    "array1 = np.array([1, 2, 3])\n",
    "\n",
    "# using the ** operator\n",
    "result1 = array1 ** 2\n",
    "print(\"Using the ** operator:\",result1) \n",
    "\n",
    "# using the power() function\n",
    "result2 = np.power(array1, 2)\n",
    "print(\"Using the power() function:\",result2) "
   ]
  },
  {
   "cell_type": "code",
   "execution_count": null,
   "id": "0580dc5c-68b0-41ba-88fd-3e3d0c83184f",
   "metadata": {},
   "outputs": [],
   "source": [
    "# MODULUS\n",
    "import numpy as np\n",
    "first_array = np.array([9, 10, 20])\n",
    "second_array = np.array([2, 5, 7])\n",
    "\n",
    "# using the % operator\n",
    "result1 = first_array % second_array\n",
    "print(\"Using the % operator:\",result1) \n",
    "\n",
    "# using the mod() function\n",
    "result2 = np.mod(first_array, second_array)\n",
    "print(\"Using the mod() function:\",result2)"
   ]
  },
  {
   "cell_type": "code",
   "execution_count": null,
   "id": "21cb4e3f-a2d0-4b03-9e35-0f269b594372",
   "metadata": {},
   "outputs": [],
   "source": [
    "# other functions\n",
    "min(), max(), argmin(),sin(), cos(), cumsum()\n"
   ]
  },
  {
   "cell_type": "code",
   "execution_count": 6,
   "id": "e5387f7f-3a28-4f1a-a2c3-86e0ffd40b87",
   "metadata": {},
   "outputs": [
    {
     "name": "stdout",
     "output_type": "stream",
     "text": [
      "Cumulative Sum of all the elements is [ 1  3  6 10 15 21]\n",
      "Cumulative Sum of elements at 0-axis is:\n",
      "[[ 1  2]\n",
      " [ 4  6]\n",
      " [ 9 12]]\n",
      "Cumulative Sum of elements at 1-axis is:\n",
      "[[ 1  3]\n",
      " [ 3  7]\n",
      " [ 5 11]]\n"
     ]
    }
   ],
   "source": [
    "# cumsum() function\n",
    "import numpy as np\n",
    "array1 = np.array(\n",
    "    [[1, 2],\n",
    "     [3, 4],\n",
    "     [5, 6]])\n",
    "\n",
    "total = np.cumsum(array1)\n",
    "print(f'Cumulative Sum of all the elements is {total}')\n",
    "\n",
    "# Along axis\n",
    "\n",
    "total_0_axis = np.cumsum(array1, axis=0)\n",
    "print(f'Cumulative Sum of elements at 0-axis is:\\n{total_0_axis}')\n",
    "\n",
    "total_1_axis = np.cumsum(array1, axis=1)\n",
    "print(f'Cumulative Sum of elements at 1-axis is:\\n{total_1_axis}')"
   ]
  },
  {
   "cell_type": "code",
   "execution_count": null,
   "id": "0603c723-bb6d-4d16-95ec-d85497dfa2c7",
   "metadata": {},
   "outputs": [],
   "source": [
    "# try remainig function with your own "
   ]
  }
 ],
 "metadata": {
  "kernelspec": {
   "display_name": "Python 3 (ipykernel)",
   "language": "python",
   "name": "python3"
  },
  "language_info": {
   "codemirror_mode": {
    "name": "ipython",
    "version": 3
   },
   "file_extension": ".py",
   "mimetype": "text/x-python",
   "name": "python",
   "nbconvert_exporter": "python",
   "pygments_lexer": "ipython3",
   "version": "3.11.5"
  }
 },
 "nbformat": 4,
 "nbformat_minor": 5
}
