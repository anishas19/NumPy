{
 "cells": [
  {
   "cell_type": "code",
   "execution_count": 72,
   "id": "d516affb-0edb-4e9d-a98e-880a9e42ed28",
   "metadata": {},
   "outputs": [
    {
     "name": "stdout",
     "output_type": "stream",
     "text": [
      "['a' 'b' 's' 't']\n"
     ]
    }
   ],
   "source": [
    "# SORT ARRAY\n",
    "import numpy as np\n",
    "var=np.array([\"a\",\"b\",\"t\",\"s\"])\n",
    "print(np.sort(var))"
   ]
  },
  {
   "cell_type": "code",
   "execution_count": 74,
   "id": "a4cfab49-6506-42ad-b990-f8135b049733",
   "metadata": {},
   "outputs": [
    {
     "name": "stdout",
     "output_type": "stream",
     "text": [
      "['a' 't']\n"
     ]
    }
   ],
   "source": [
    "# FILTER ARRAY\n",
    "\n",
    "import numpy as np\n",
    "var=np.array([\"a\",\"b\",\"t\",\"s\",\"g\",\"v\"])\n",
    "new=[True,False,True,False,False,False]\n",
    "new_arr=var[new]\n",
    "print(new_arr)"
   ]
  },
  {
   "cell_type": "code",
   "execution_count": null,
   "id": "75a45243-de96-48d9-aee9-ea06099654d0",
   "metadata": {},
   "outputs": [],
   "source": []
  }
 ],
 "metadata": {
  "kernelspec": {
   "display_name": "Python 3 (ipykernel)",
   "language": "python",
   "name": "python3"
  },
  "language_info": {
   "codemirror_mode": {
    "name": "ipython",
    "version": 3
   },
   "file_extension": ".py",
   "mimetype": "text/x-python",
   "name": "python",
   "nbconvert_exporter": "python",
   "pygments_lexer": "ipython3",
   "version": "3.11.5"
  }
 },
 "nbformat": 4,
 "nbformat_minor": 5
}
